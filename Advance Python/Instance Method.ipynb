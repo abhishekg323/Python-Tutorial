{
 "cells": [
  {
   "cell_type": "markdown",
   "metadata": {},
   "source": [
    "## There are 3 types of method \n",
    "## 1. instance method /object related method\n",
    "## 2. class method \n",
    "## 3. static method\n"
   ]
  },
  {
   "cell_type": "markdown",
   "metadata": {},
   "source": [
    "##  Any method is said tobe instance method if its argument is self"
   ]
  },
  {
   "cell_type": "code",
   "execution_count": 3,
   "metadata": {},
   "outputs": [
    {
     "name": "stdout",
     "output_type": "stream",
     "text": [
      "Enter the number of student\n",
      "1\n",
      "Enter the name of student\n",
      "ivshal\n",
      "Enter the marks of student\n",
      "555\n",
      "********************\n",
      "hi ivshal\n",
      "ivshal Your marks is 555 \n",
      "first divison\n",
      "********************\n"
     ]
    }
   ],
   "source": [
    "class Student:\n",
    "    def __init__(self,name,marks):\n",
    "        self.name=name\n",
    "        self.marks=marks\n",
    "    #instance method because its first argument is self(current object reference)\n",
    "    def Info(self):\n",
    "        print(\"hi\",self.name)\n",
    "        print(\"{0} Your marks is {1} \".format(self.name,self.marks))\n",
    "    def Grade(self):\n",
    "        if self.marks>60:\n",
    "            print(\"first divison\")\n",
    "        elif self.marks>50:\n",
    "            print(\"Second divison\")\n",
    "        elif self.marks>35:\n",
    "            print(\"You got third grade\")\n",
    "        else:\n",
    "            print(\"you are fail\")\n",
    "\n",
    "            \n",
    "n=int(input(\"Enter the number of student\\n\"))\n",
    "for i in range(n):\n",
    "    name=input(\"Enter the name of student\\n\")\n",
    "    marks=int(input(\"Enter the marks of student\\n\"))\n",
    "    print(\"*\"*20)\n",
    "    student=Student(name,marks)\n",
    "    student.Info()\n",
    "    student.Grade()\n",
    "    print(\"*\"*20)\n",
    "\n",
    "\n",
    "    "
   ]
  },
  {
   "cell_type": "markdown",
   "metadata": {},
   "source": []
  },
  {
   "cell_type": "code",
   "execution_count": 7,
   "metadata": {},
   "outputs": [],
   "source": [
    "def setMarks(self,marks):\n",
    "    self.marks=marks\n",
    "def getMarks(self):\n",
    "    return selt.marks"
   ]
  },
  {
   "cell_type": "code",
   "execution_count": null,
   "metadata": {},
   "outputs": [],
   "source": []
  }
 ],
 "metadata": {
  "kernelspec": {
   "display_name": "Python 3",
   "language": "python",
   "name": "python3"
  },
  "language_info": {
   "codemirror_mode": {
    "name": "ipython",
    "version": 3
   },
   "file_extension": ".py",
   "mimetype": "text/x-python",
   "name": "python",
   "nbconvert_exporter": "python",
   "pygments_lexer": "ipython3",
   "version": "3.6.5"
  }
 },
 "nbformat": 4,
 "nbformat_minor": 2
}
