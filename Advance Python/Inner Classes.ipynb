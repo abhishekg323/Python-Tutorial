{
 "cells": [
  {
   "cell_type": "code",
   "execution_count": 1,
   "metadata": {},
   "outputs": [
    {
     "name": "stdout",
     "output_type": "stream",
     "text": [
      "******************************\n",
      "Employee number is  852524\n",
      "Employee name is  vishal\n",
      "Employee salary is  20000\n",
      "******************************\n"
     ]
    }
   ],
   "source": [
    "class Employee:\n",
    "    def __init__(self,eno,ename,esal):\n",
    "        self.eno=eno\n",
    "        self.ename=ename\n",
    "        self.esal=esal\n",
    "    def display(self):\n",
    "        print(\"*\"*30)\n",
    "        print(\"Employee number is \",self.eno)\n",
    "        print(\"Employee name is \",self.ename)\n",
    "        print(\"Employee salary is \",self.esal)\n",
    "        print(\"*\"*30)\n",
    "        \n",
    "class Test:\n",
    "    # out of thousand way but we are not replace self with any other words so the below method is not instance method\n",
    "    # the below method is static method \n",
    "    #static method never gone to acess intance variable and class variable\n",
    "    \n",
    "    def modify(self):\n",
    "        self.esal=self.esal+10000\n",
    "        self.display()\n",
    "        \n",
    "        \n",
    "        \n",
    "e=Employee(852524,\"vishal\",10000)\n",
    "Test.modify(e)\n",
    "##f=Test()\n",
    "##f.modify()\n"
   ]
  },
  {
   "cell_type": "markdown",
   "metadata": {},
   "source": [
    "# Inner class\n",
    "## what is inner class\n",
    "## 1.the which is declare inside the another class \n",
    "## 2. Without existing one type of object if there no chance of existing another type of object then we should go inner classes"
   ]
  },
  {
   "cell_type": "code",
   "execution_count": 2,
   "metadata": {},
   "outputs": [
    {
     "name": "stdout",
     "output_type": "stream",
     "text": [
      "This is outer class object...\n",
      "This is inner class object..\n",
      "Inner class method\n"
     ]
    }
   ],
   "source": [
    "class Outer:\n",
    "    def __init__(self):\n",
    "        print(\"This is outer class object...\")\n",
    "    def call(self):\n",
    "        print(\"outer class method\")\n",
    "    class Inner:\n",
    "        def __init__(self):\n",
    "            print(\"This is inner class object..\")\n",
    "        def M1(self):\n",
    "            print(\"Inner class method\")\n",
    "            \n",
    "#o=Outer()\n",
    "#i=o.Inner()\n",
    "#i.M1()\n",
    "i=Outer().Inner()\n",
    "i.M1()\n",
    "            "
   ]
  },
  {
   "cell_type": "markdown",
   "metadata": {},
   "source": [
    "### In the above example their is no chance of creating inner class object so step to call inner class method\n",
    "### Creating the outer class object\n",
    "### now use that object to create the inner class object\n",
    "### call the inner class method\n",
    "\n"
   ]
  },
  {
   "cell_type": "code",
   "execution_count": 12,
   "metadata": {},
   "outputs": [
    {
     "name": "stdout",
     "output_type": "stream",
     "text": [
      "Person name is  vishal\n",
      "Data of birth is 18/4/1998\n"
     ]
    }
   ],
   "source": [
    "class Person:\n",
    "    def __init__(self):\n",
    "        self.name='vishal'\n",
    "        self.dob=self.DOB()\n",
    "    def Display(self):\n",
    "        print(\"Person name is \",self.name)\n",
    "        self.dob.Display()\n",
    "    class DOB:\n",
    "        def __init__(self):\n",
    "            self.dd=18\n",
    "            self.mm=4\n",
    "            self.yy=1998\n",
    "        def Display(self):\n",
    "            print(\"Data of birth is {0}/{1}/{2}\".format(self.dd,self.mm,self.yy))\n",
    "p=Person()\n",
    "p.Display()\n",
    "\n"
   ]
  }
 ],
 "metadata": {
  "kernelspec": {
   "display_name": "Python 3",
   "language": "python",
   "name": "python3"
  },
  "language_info": {
   "codemirror_mode": {
    "name": "ipython",
    "version": 3
   },
   "file_extension": ".py",
   "mimetype": "text/x-python",
   "name": "python",
   "nbconvert_exporter": "python",
   "pygments_lexer": "ipython3",
   "version": "3.6.5"
  }
 },
 "nbformat": 4,
 "nbformat_minor": 2
}
