{
 "cells": [
  {
   "cell_type": "markdown",
   "metadata": {},
   "source": [
    "# class in python"
   ]
  },
  {
   "cell_type": "markdown",
   "metadata": {},
   "source": [
    "## Inside python class\n",
    "\n",
    "## There are 3 types of variable in python\n",
    "## 1. Instance Variable / Object level variable\n",
    "## 2. Static Variable / class level variable\n",
    "## 3. Local Variable\n",
    "\n",
    "## There are 3 types of method in python\n",
    "## 1. Instance method \n",
    "## 2. Static method \n",
    "## 3. class method\n",
    "\n"
   ]
  },
  {
   "cell_type": "markdown",
   "metadata": {},
   "source": [
    "## Instance variable:\n",
    "\n",
    "### *If the value of variable is varries from object to object then it is known as instance variable that us why instance variable is also known as object level variable\n",
    "### *The variable which is declare with the help of self that is known as instance variable\n",
    "### *The instance variable is inside constructor"
   ]
  },
  {
   "cell_type": "code",
   "execution_count": 5,
   "metadata": {},
   "outputs": [
    {
     "name": "stdout",
     "output_type": "stream",
     "text": [
      "instance variable\n",
      "********************\n",
      "student Information\n",
      "student name= vishal\n",
      "Student rollno.=100\n"
     ]
    }
   ],
   "source": [
    "class Student(object):\n",
    "    def __init__(self,x,y):\n",
    "        print(\"instance variable\")\n",
    "        self.name=x\n",
    "        self.rollno=y\n",
    "        \n",
    "    def info(self):\n",
    "        print(\"*\"*20)\n",
    "        print(\"student Information\")\n",
    "        print(\"student name= {0}\\nStudent rollno.={1}\".format(self.name,self.rollno))\n",
    "s=Student(\"vishal\",100)\n",
    "s.info()"
   ]
  },
  {
   "cell_type": "markdown",
   "metadata": {},
   "source": [
    "## Static variable:\n",
    "\n",
    "### * The static variable only one copy is created and shared to all other objects.\n",
    "### * The static variable is also known as class level variable.\n"
   ]
  },
  {
   "cell_type": "code",
   "execution_count": null,
   "metadata": {},
   "outputs": [],
   "source": []
  }
 ],
 "metadata": {
  "kernelspec": {
   "display_name": "Python 3",
   "language": "python",
   "name": "python3"
  },
  "language_info": {
   "codemirror_mode": {
    "name": "ipython",
    "version": 3
   },
   "file_extension": ".py",
   "mimetype": "text/x-python",
   "name": "python",
   "nbconvert_exporter": "python",
   "pygments_lexer": "ipython3",
   "version": "3.6.5"
  }
 },
 "nbformat": 4,
 "nbformat_minor": 2
}
