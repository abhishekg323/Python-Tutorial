{
 "cells": [
  {
   "cell_type": "markdown",
   "metadata": {},
   "source": [
    "### Method overloading: The method is said to be overloaded if it have same name but different arguments types and number of argument\n",
    "### In java:\n",
    "### m1(int a)\n",
    "### m1(int b,int c)\n",
    "### m1(double a)\n",
    "### "
   ]
  },
  {
   "cell_type": "markdown",
   "metadata": {},
   "source": [
    "### Python won't provide support for method/constructor overloading\n",
    "### The method overloading concept is not their in python because python does not require intial declare type of variable"
   ]
  },
  {
   "cell_type": "code",
   "execution_count": 3,
   "metadata": {},
   "outputs": [
    {
     "name": "stdout",
     "output_type": "stream",
     "text": [
      "vishal\n",
      "10\n"
     ]
    }
   ],
   "source": [
    "class polymorphism:\n",
    "    def m1(self,i):\n",
    "        self.i=i\n",
    "        print(self.i)\n",
    "        \n",
    "p=polymorphism()\n",
    "p.m1('vishal')\n",
    "p.m1(10)\n",
    "# This is valid for both the cases string as well as integer so python does not require the method overloading concept\n",
    "    \n",
    "    \n",
    "    \n",
    "    \n",
    "    \n",
    "    \n",
    "    \n",
    "    \n",
    "    \n",
    "    \n",
    "    \n",
    "    \n",
    "    \n",
    "    \n",
    "    \n",
    "    \n",
    "    \n",
    "    "
   ]
  },
  {
   "cell_type": "markdown",
   "metadata": {},
   "source": [
    "### Default length argument \n",
    "### Variable length argument\n",
    "\n",
    "\n",
    "\n"
   ]
  },
  {
   "cell_type": "code",
   "execution_count": 14,
   "metadata": {},
   "outputs": [
    {
     "name": "stdout",
     "output_type": "stream",
     "text": [
      "Please provide atleast 2 argument\n"
     ]
    }
   ],
   "source": [
    "#default length argument\n",
    "class Polymorphism:\n",
    "    def m1(self,a=None,b=None,c=None):\n",
    "        if a!=None and b!=None and c!=None:\n",
    "            print(\"The sum 3 of number is \",a+b+c)\n",
    "        elif a!=None and b!=None:\n",
    "            print(\"The sum of 2 nuber is \",a+b)\n",
    "        else:\n",
    "            print(\"Please provide atleast 2 argument\")\n",
    "            \n",
    "            \n",
    "            \n",
    "            \n",
    "t=Polymorphism()\n",
    "t.m1(10)\n",
    "t.m1?\n",
    "# we can even 0 number of argument"
   ]
  },
  {
   "cell_type": "code",
   "execution_count": 8,
   "metadata": {},
   "outputs": [
    {
     "name": "stdout",
     "output_type": "stream",
     "text": [
      "the total is  310\n"
     ]
    }
   ],
   "source": [
    "#variable length argument\n",
    "\n",
    "class Polymorphism:\n",
    "    def m1(self,*a):\n",
    "        # internally the variable length argument is represented as tuple\n",
    "        total=0\n",
    "        for x in a:\n",
    "            total =total+x\n",
    "        print(\"the total is \",total)\n",
    "        \n",
    "        \n",
    "        \n",
    "p=Polymorphism()\n",
    "p.m1(10,10,10,20,20,20,30,50,40,50,50)"
   ]
  },
  {
   "cell_type": "code",
   "execution_count": 15,
   "metadata": {},
   "outputs": [
    {
     "ename": "TypeError",
     "evalue": "__init__() got an unexpected keyword argument 'vis'",
     "output_type": "error",
     "traceback": [
      "\u001b[1;31m---------------------------------------------------------------------------\u001b[0m",
      "\u001b[1;31mTypeError\u001b[0m                                 Traceback (most recent call last)",
      "\u001b[1;32m<ipython-input-15-93a669f9bb1b>\u001b[0m in \u001b[0;36m<module>\u001b[1;34m()\u001b[0m\n\u001b[0;32m      7\u001b[0m         \u001b[0mprint\u001b[0m\u001b[1;33m(\u001b[0m\u001b[1;34m\"the total is \"\u001b[0m\u001b[1;33m,\u001b[0m\u001b[0mtotal\u001b[0m\u001b[1;33m)\u001b[0m\u001b[1;33m\u001b[0m\u001b[0m\n\u001b[0;32m      8\u001b[0m         \u001b[1;31m# internally the variable length argument is represented as tuple\u001b[0m\u001b[1;33m\u001b[0m\u001b[1;33m\u001b[0m\u001b[0m\n\u001b[1;32m----> 9\u001b[1;33m \u001b[0mp\u001b[0m\u001b[1;33m=\u001b[0m\u001b[0mPolymorphism\u001b[0m\u001b[1;33m(\u001b[0m\u001b[0mvis\u001b[0m\u001b[1;33m=\u001b[0m\u001b[1;36m10\u001b[0m\u001b[1;33m,\u001b[0m\u001b[0mvi\u001b[0m\u001b[1;33m=\u001b[0m\u001b[1;36m10\u001b[0m\u001b[1;33m,\u001b[0m\u001b[0mv\u001b[0m\u001b[1;33m=\u001b[0m\u001b[1;36m10\u001b[0m\u001b[1;33m,\u001b[0m\u001b[0mj\u001b[0m\u001b[1;33m=\u001b[0m\u001b[1;36m20\u001b[0m\u001b[1;33m,\u001b[0m\u001b[0md\u001b[0m\u001b[1;33m=\u001b[0m\u001b[1;36m20\u001b[0m\u001b[1;33m,\u001b[0m\u001b[0mde\u001b[0m\u001b[1;33m=\u001b[0m\u001b[1;36m20\u001b[0m\u001b[1;33m,\u001b[0m\u001b[0ml\u001b[0m\u001b[1;33m=\u001b[0m\u001b[1;36m30\u001b[0m\u001b[1;33m,\u001b[0m\u001b[0me\u001b[0m\u001b[1;33m=\u001b[0m\u001b[1;36m50\u001b[0m\u001b[1;33m,\u001b[0m\u001b[0mp\u001b[0m\u001b[1;33m=\u001b[0m\u001b[1;36m4\u001b[0m\u001b[1;33m)\u001b[0m\u001b[1;33m\u001b[0m\u001b[0m\n\u001b[0m\u001b[0;32m     10\u001b[0m \u001b[1;31m#p.m1(10,10,10,20,20,20,30,50,40,50,50)\u001b[0m\u001b[1;33m\u001b[0m\u001b[1;33m\u001b[0m\u001b[0m\n",
      "\u001b[1;31mTypeError\u001b[0m: __init__() got an unexpected keyword argument 'vis'"
     ]
    }
   ],
   "source": [
    "#constructor overloading\n",
    "class Polymorphism:\n",
    "    def __init__(self,*a):\n",
    "        total=0\n",
    "        for x in a:\n",
    "            total =total+x\n",
    "        print(\"the total is \",total)\n",
    "        # internally the variable length argument is represented as tuple\n",
    "p=Polymorphism(vis=10,vi=10,v=10,j=20,d=20,de=20,l=30,e=50,p=4)\n",
    "#p.m1(10,10,10,20,20,20,30,50,40,50,50)"
   ]
  },
  {
   "cell_type": "code",
   "execution_count": 19,
   "metadata": {},
   "outputs": [
    {
     "name": "stdout",
     "output_type": "stream",
     "text": [
      "cash+gold+land+sex\n",
      "nidhi weds vishal\n",
      "tanaya love vishal\n"
     ]
    }
   ],
   "source": [
    "class P:\n",
    "    def Property(self):\n",
    "        print(\"cash+gold+land+sex\")\n",
    "    \n",
    "    def Marriage(self):\n",
    "        print(\"nidhi weds vishal\")\n",
    "    \n",
    "    def Love(self):\n",
    "        print(\"....\")\n",
    "class C(P):\n",
    "    def Marriage(self):\n",
    "        super().Marriage()\n",
    "        print(\"tanaya love vishal\")\n",
    "c=C()\n",
    "c.Property()\n",
    "c.Marriage()\n",
    "\n",
    "\n",
    "\n",
    "\n",
    "\n",
    "\n",
    "\n",
    "\n",
    "\n",
    "\n",
    "\n",
    "\n"
   ]
  }
 ],
 "metadata": {
  "kernelspec": {
   "display_name": "Python 3",
   "language": "python",
   "name": "python3"
  },
  "language_info": {
   "codemirror_mode": {
    "name": "ipython",
    "version": 3
   },
   "file_extension": ".py",
   "mimetype": "text/x-python",
   "name": "python",
   "nbconvert_exporter": "python",
   "pygments_lexer": "ipython3",
   "version": "3.6.5"
  }
 },
 "nbformat": 4,
 "nbformat_minor": 2
}
