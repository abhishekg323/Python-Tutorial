{
 "cells": [
  {
   "cell_type": "code",
   "execution_count": null,
   "metadata": {},
   "outputs": [],
   "source": [
    "import sys\n",
    "class Customer:\n",
    "    '''Customer class with the bank related operations'''\n",
    "    bankname=\"State Bank of India\"\n",
    "    def __init__(self,name,balance=0):\n",
    "        self.name=name\n",
    "        self.balance=balance\n",
    "    def Deposit(self,amount):\n",
    "        self.balance=self.balance+amount\n",
    "        print(\"Your account is credited with {0}.\\n Now your account balance is {1}\".format(self.amount,self.balance))\n",
    "    def Withdrawal(self,amount):\n",
    "        if self.balance<=amount:\n",
    "            print(\"Your account balance is not sufficient to make this transaction\")\n",
    "            sys.exit()\n",
    "            \n",
    "        #The below statement is execute automatically after the above statement is false so no need to else statement\n",
    "        self.balance=self.balance-amount\n",
    "        print(\"Your account is debit with{0}.\\n Now your account balance is {1}\".format(self.amount,self.balance ))\n",
    "        \n",
    "print(\"Welcome to \",Customer.bankname)\n",
    "name=input(\"Enter Your Name\\\n",
    "n\")\n",
    "customer=Customer(name)\n",
    "while 1:\n",
    "    print(\"Which operation do you perform\\n1. Deposit\\n2.Withdrawal\\n3.Exit \")\n",
    "    option=int(input(\"Please select your option\\n\"))\n",
    "    if option==1:\n",
    "        amount=float(input(\"Please Enter the amount\\n\"))\n",
    "        customer.Deposit(amount)\n",
    "    elif option==2:\n",
    "        amount=float(input(\"Please Enter the amount\\n\"))\n",
    "        customer.Withdrawal(amount)\n",
    "    elif option==3:\n",
    "        print(\"Thank you using your service Please visit again\\n\")\n",
    "        sys.exit()\n",
    "    #else :\n",
    "     #   print(\"Please Choose the valid option\")\n",
    "    \n",
    "\n"
   ]
  }
 ],
 "metadata": {
  "kernelspec": {
   "display_name": "Python 3",
   "language": "python",
   "name": "python3"
  },
  "language_info": {
   "codemirror_mode": {
    "name": "ipython",
    "version": 3
   },
   "file_extension": ".py",
   "mimetype": "text/x-python",
   "name": "python",
   "nbconvert_exporter": "python",
   "pygments_lexer": "ipython3",
   "version": "3.6.5"
  }
 },
 "nbformat": 4,
 "nbformat_minor": 2
}
