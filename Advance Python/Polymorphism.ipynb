{
 "cells": [
  {
   "cell_type": "markdown",
   "metadata": {},
   "source": [
    "## Polymorphism\n",
    "### Poly: means many\n",
    "### morphism: means form\n",
    "### one name multiple form\n"
   ]
  },
  {
   "cell_type": "markdown",
   "metadata": {},
   "source": [
    "### operator overloading: same operator with multiple operation \n",
    "#### In java their is no operator overloading concept luckly in python it have"
   ]
  },
  {
   "cell_type": "code",
   "execution_count": 4,
   "metadata": {},
   "outputs": [
    {
     "data": {
      "text/plain": [
       "2619079296672"
      ]
     },
     "execution_count": 4,
     "metadata": {},
     "output_type": "execute_result"
    }
   ],
   "source": [
    "#Example of operator overloading\n",
    "class Book:\n",
    "    def __init__(self,pages):\n",
    "        self.pages=pages\n",
    "\n",
    "b1=Book(100)\n",
    "b2=Book(200)\n",
    "#print(b1+b2)\n",
    "id(b1)\n",
    "#in this we are getting an error unsupported type error + operator is only applicable on str and interger object\n",
    "\n",
    "        "
   ]
  },
  {
   "cell_type": "markdown",
   "metadata": {},
   "source": [
    "### operator overloading is implemented by using magic method concept When ever we are using the operator the class is check that corresponding magic method will execute\n"
   ]
  },
  {
   "cell_type": "code",
   "execution_count": 29,
   "metadata": {},
   "outputs": [
    {
     "name": "stdout",
     "output_type": "stream",
     "text": [
      "total no. of page is :600\n"
     ]
    }
   ],
   "source": [
    "class Book:\n",
    "    def __init__(self,pages):\n",
    "        self.pages=pages\n",
    "    def __add__(self,kwargs):\n",
    "        total= self.pages+kwargs.pages\n",
    "        b=Book(total)\n",
    "        return b\n",
    "    def __str__(self):\n",
    "        return \"total no. of page is :\"+str(self.pages) \n",
    "    \n",
    "b1=Book(100)\n",
    "b2=Book(200)\n",
    "b3=Book(300)\n",
    "print(b1+b2+b3)\n",
    "\n",
    "\n",
    "\n",
    "\n"
   ]
  },
  {
   "cell_type": "markdown",
   "metadata": {},
   "source": [
    "# Important :\n",
    "## When ever we are tries to print the object print(b1) it internally call the __str__() will be call \n",
    "\n",
    "\n",
    "### When ever we are calling + operator then __add__() method will be called\n",
    "### When we are printing the object reference then __str__() method will be called"
   ]
  },
  {
   "cell_type": "code",
   "execution_count": 30,
   "metadata": {},
   "outputs": [
    {
     "name": "stdout",
     "output_type": "stream",
     "text": [
      "The number of pages 100\n"
     ]
    }
   ],
   "source": [
    "class Book:\n",
    "    def __init__(self,pages):\n",
    "        self.pages=pages\n",
    "    def __str__(self):\n",
    "        return \"The number of pages \"+str(self.pages)\n",
    "b1=Book(100)\n",
    "print(b1)"
   ]
  },
  {
   "cell_type": "code",
   "execution_count": 34,
   "metadata": {},
   "outputs": [
    {
     "name": "stdout",
     "output_type": "stream",
     "text": [
      "this month salary is  250000\n"
     ]
    }
   ],
   "source": [
    "#Real life example\n",
    "class Employee:\n",
    "    def __init__(self,name,salary):\n",
    "        self.name=name\n",
    "        self.salary=salary\n",
    "    \n",
    "    def __mul__(self,other):\n",
    "        return self.salary*other.days\n",
    "class TimeSheet:\n",
    "    def __init__(self,name,days):\n",
    "        self.name=name\n",
    "        self.days=days\n",
    "e=Employee(\"vishal\",10000)\n",
    "t=TimeSheet(\"vishal\",25)\n",
    "print(\"this month salary is \",e*t)"
   ]
  }
 ],
 "metadata": {
  "kernelspec": {
   "display_name": "Python 3",
   "language": "python",
   "name": "python3"
  },
  "language_info": {
   "codemirror_mode": {
    "name": "ipython",
    "version": 3
   },
   "file_extension": ".py",
   "mimetype": "text/x-python",
   "name": "python",
   "nbconvert_exporter": "python",
   "pygments_lexer": "ipython3",
   "version": "3.6.5"
  }
 },
 "nbformat": 4,
 "nbformat_minor": 2
}
