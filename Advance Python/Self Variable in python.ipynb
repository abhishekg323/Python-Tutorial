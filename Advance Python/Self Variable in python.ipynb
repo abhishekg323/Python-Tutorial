{
 "cells": [
  {
   "cell_type": "markdown",
   "metadata": {},
   "source": [
    "# self in python \n",
    "## Self:\n",
    "## The self variable in python is just like a this method in java which point to current instance of the class\n",
    "### *The self is reference variable always pointing to current object.\n",
    "### *with in python class to refer current object we should use self variable\n"
   ]
  },
  {
   "cell_type": "code",
   "execution_count": 13,
   "metadata": {},
   "outputs": [
    {
     "name": "stdout",
     "output_type": "stream",
     "text": [
      "2037469017816\n",
      "\n"
     ]
    }
   ],
   "source": [
    "class Student(object):\n",
    "    def __init__(self):\n",
    "        print(id(self))\n",
    "s=Student()\n",
    "print()"
   ]
  },
  {
   "cell_type": "markdown",
   "metadata": {},
   "source": [
    "# self\n",
    "## ~The self reference variable is working with in the class only if are try to acess the self variable in outside get an error self is not define\n",
    "## ~ out side the class the object is acess by the reference variable s=Student()"
   ]
  },
  {
   "cell_type": "code",
   "execution_count": 35,
   "metadata": {},
   "outputs": [
    {
     "ename": "NameError",
     "evalue": "name 'self' is not defined",
     "output_type": "error",
     "traceback": [
      "\u001b[1;31m---------------------------------------------------------------------------\u001b[0m",
      "\u001b[1;31mNameError\u001b[0m                                 Traceback (most recent call last)",
      "\u001b[1;32m<ipython-input-35-b5d897cb44b3>\u001b[0m in \u001b[0;36m<module>\u001b[1;34m()\u001b[0m\n\u001b[0;32m     16\u001b[0m         \u001b[0mprint\u001b[0m\u001b[1;33m(\u001b[0m\u001b[1;34m\"Employee address is\"\u001b[0m\u001b[1;33m,\u001b[0m\u001b[0mself\u001b[0m\u001b[1;33m.\u001b[0m\u001b[0meaddr\u001b[0m\u001b[1;33m)\u001b[0m\u001b[1;33m\u001b[0m\u001b[0m\n\u001b[0;32m     17\u001b[0m         \u001b[0mprint\u001b[0m\u001b[1;33m(\u001b[0m\u001b[1;34m'*'\u001b[0m\u001b[1;33m*\u001b[0m\u001b[1;36m20\u001b[0m\u001b[1;33m)\u001b[0m\u001b[1;33m\u001b[0m\u001b[0m\n\u001b[1;32m---> 18\u001b[1;33m \u001b[0ms1\u001b[0m\u001b[1;33m=\u001b[0m\u001b[0mFirst\u001b[0m\u001b[1;33m(\u001b[0m\u001b[1;36m1\u001b[0m\u001b[1;33m,\u001b[0m\u001b[1;34m'vishal'\u001b[0m\u001b[1;33m,\u001b[0m\u001b[1;36m10000\u001b[0m\u001b[1;33m,\u001b[0m\u001b[1;34m'ajabpur'\u001b[0m\u001b[1;33m)\u001b[0m\u001b[1;33m\u001b[0m\u001b[0m\n\u001b[0m\u001b[0;32m     19\u001b[0m \u001b[0ms1\u001b[0m\u001b[1;33m.\u001b[0m\u001b[0minfo\u001b[0m\u001b[1;33m(\u001b[0m\u001b[1;33m)\u001b[0m\u001b[1;33m\u001b[0m\u001b[0m\n",
      "\u001b[1;32m<ipython-input-35-b5d897cb44b3>\u001b[0m in \u001b[0;36m__init__\u001b[1;34m(s, eno, ename, esal, eaddr)\u001b[0m\n\u001b[0;32m      4\u001b[0m \u001b[1;33m\u001b[0m\u001b[0m\n\u001b[0;32m      5\u001b[0m         \u001b[0ms\u001b[0m\u001b[1;33m.\u001b[0m\u001b[0meno\u001b[0m\u001b[1;33m=\u001b[0m\u001b[0meno\u001b[0m\u001b[1;33m\u001b[0m\u001b[0m\n\u001b[1;32m----> 6\u001b[1;33m         \u001b[0mself\u001b[0m\u001b[1;33m.\u001b[0m\u001b[0mename\u001b[0m\u001b[1;33m=\u001b[0m\u001b[0mename\u001b[0m\u001b[1;33m\u001b[0m\u001b[0m\n\u001b[0m\u001b[0;32m      7\u001b[0m         \u001b[0mself\u001b[0m\u001b[1;33m.\u001b[0m\u001b[0mesal\u001b[0m\u001b[1;33m=\u001b[0m\u001b[0mesal\u001b[0m\u001b[1;33m\u001b[0m\u001b[0m\n\u001b[0;32m      8\u001b[0m         \u001b[0mself\u001b[0m\u001b[1;33m.\u001b[0m\u001b[0meaddr\u001b[0m\u001b[1;33m=\u001b[0m\u001b[0meaddr\u001b[0m\u001b[1;33m\u001b[0m\u001b[0m\n",
      "\u001b[1;31mNameError\u001b[0m: name 'self' is not defined"
     ]
    }
   ],
   "source": [
    "class First(object):\n",
    "    '''the doc string'''\n",
    "    def __init__(self,eno,ename,esal,eaddr):\n",
    "        \n",
    "        self.eno=eno\n",
    "        self.ename=ename\n",
    "        self.esal=esal\n",
    "        self.eaddr=eaddr\n",
    "        #in the above statement we can declare the properties by using self reference variable\n",
    "        \n",
    "    def info(self):\n",
    "        print('*'*20)\n",
    "        print(\"Employee number is\",self.eno)\n",
    "        print(\"Employee name is\",self.ename)\n",
    "        print(\"Employee salary is\",self.esal)\n",
    "        print(\"Employee address is\",self.eaddr)\n",
    "        print('*'*20)\n",
    "s1=First(1,'vishal',10000,'ajabpur')\n",
    "s1.info()"
   ]
  },
  {
   "cell_type": "markdown",
   "metadata": {},
   "source": [
    "# Notes:\n",
    "## The first argument to the constructor and instance method should be self\n",
    "\n",
    "## def info(self):        now how is the responsible for providing the value of self \n",
    "\n",
    "## The python virtual machine is responsible of providing the value of self internally the user does not passes the value of self\n",
    "\n",
    "## ~with the help of self we can declare the instance variable \n",
    "## ~with the help of self we can acess the instance variable\n",
    "\n",
    "\n",
    "## ~The instance variable in python is always declare inside the def __init__(self):\n",
    "\n",
    "## ~not just like in java class{ int i } is considered as instance variable so do not confuse"
   ]
  },
  {
   "cell_type": "code",
   "execution_count": 39,
   "metadata": {},
   "outputs": [
    {
     "name": "stdout",
     "output_type": "stream",
     "text": [
      "********************\n",
      "Employee number is 1\n",
      "Employee name is vishal\n",
      "Employee salary is 10000\n",
      "Employee address is ajabpur\n",
      "********************\n"
     ]
    }
   ],
   "source": [
    "class Employee(object):\n",
    "    '''the doc string'''\n",
    "    def __init__(s,eno,ename,esal,eaddr):\n",
    "        \n",
    "        s.eno=eno\n",
    "        s.ename=ename\n",
    "        s.esal=esal\n",
    "        s.eaddr=eaddr\n",
    "        #in the above statement we can declare the properties by using self reference variable\n",
    "        \n",
    "    def info(x):\n",
    "        print('*'*20)\n",
    "        print(\"Employee number is\",x.eno)\n",
    "        print(\"Employee name is\",x.ename)\n",
    "        print(\"Employee salary is\",x.esal)\n",
    "        print(\"Employee address is\",x.eaddr)\n",
    "        print('*'*20)\n",
    "s1=Employee(1,'vishal',10000,'ajabpur')\n",
    "s1.info()"
   ]
  },
  {
   "cell_type": "markdown",
   "metadata": {},
   "source": [
    "## def __int__ (s,eno):\n",
    "## internally what ever first argument we take python pvm take it as a current object in above the s in working as a self so self not a predefine keyword in python\n",
    "\n",
    "## Instead of self we can use any name but it is highly recommended to use self for better clarity"
   ]
  },
  {
   "cell_type": "code",
   "execution_count": null,
   "metadata": {},
   "outputs": [],
   "source": []
  }
 ],
 "metadata": {
  "kernelspec": {
   "display_name": "Python 3",
   "language": "python",
   "name": "python3"
  },
  "language_info": {
   "codemirror_mode": {
    "name": "ipython",
    "version": 3
   },
   "file_extension": ".py",
   "mimetype": "text/x-python",
   "name": "python",
   "nbconvert_exporter": "python",
   "pygments_lexer": "ipython3",
   "version": "3.6.5"
  }
 },
 "nbformat": 4,
 "nbformat_minor": 2
}
