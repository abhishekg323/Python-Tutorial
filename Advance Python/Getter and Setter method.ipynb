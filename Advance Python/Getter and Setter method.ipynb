{
 "cells": [
  {
   "cell_type": "markdown",
   "metadata": {},
   "source": [
    "## getter and setter method:\n",
    "### The another way to initilize data is getter and setter method\n",
    "### The advantage of using getter and setter method is data hidingand security and only authorized person can acess the methods while not in the case of constructor\n",
    "### The getter and setter method in python is not built-in so we have to define these methods"
   ]
  },
  {
   "cell_type": "code",
   "execution_count": 1,
   "metadata": {},
   "outputs": [],
   "source": [
    "def setMarks(self,marks):\n",
    "    self.marks=marks\n",
    "def getMarks(self):\n",
    "    return selt.marks"
   ]
  },
  {
   "cell_type": "code",
   "execution_count": 8,
   "metadata": {},
   "outputs": [
    {
     "name": "stdout",
     "output_type": "stream",
     "text": [
      "Enter the number of student\n",
      "1\n",
      "Enter the name of student\n",
      "visah\n",
      "Enter the marks of student\n",
      "12121\n",
      "********************\n",
      "12121\n",
      "********************\n"
     ]
    }
   ],
   "source": [
    "class Student:\n",
    "    def setName(self,name):\n",
    "        //Validation stuff\n",
    "        self.name=name\n",
    "    def getName(self):\n",
    "        //Validation stuff\n",
    "        return self.marks\n",
    "    def setMarks(self,marks):\n",
    "        //Validation stuff\n",
    "        self.marks=marks\n",
    "    def getMarks(self):\n",
    "        //Validation stuff\n",
    "        return self.marks\n",
    "n=int(input(\"Enter the number of student\\n\"))\n",
    "for i in range(n):\n",
    "    name=input(\"Enter the name of student\\n\")\n",
    "    marks=int(input(\"Enter the marks of student\\n\"))\n",
    "    print(\"*\"*20)\n",
    "    student=Student()\n",
    "    student.setName(name)\n",
    "    student.setMarks(marks)\n",
    "    print(student.getMarks())\n",
    "    print(\"*\"*20)"
   ]
  }
 ],
 "metadata": {
  "kernelspec": {
   "display_name": "Python 3",
   "language": "python",
   "name": "python3"
  },
  "language_info": {
   "codemirror_mode": {
    "name": "ipython",
    "version": 3
   },
   "file_extension": ".py",
   "mimetype": "text/x-python",
   "name": "python",
   "nbconvert_exporter": "python",
   "pygments_lexer": "ipython3",
   "version": "3.6.5"
  }
 },
 "nbformat": 4,
 "nbformat_minor": 2
}
