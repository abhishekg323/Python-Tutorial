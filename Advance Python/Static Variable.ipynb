{
 "cells": [
  {
   "cell_type": "markdown",
   "metadata": {},
   "source": [
    "## static variable:\n",
    "### In staic variable only one copy of object is maintain at the class level \n",
    "### Or one copy is send to the all other object \n",
    "### The static variable is declare with in the class without any decorator"
   ]
  },
  {
   "cell_type": "code",
   "execution_count": 9,
   "metadata": {},
   "outputs": [
    {
     "name": "stdout",
     "output_type": "stream",
     "text": [
      "My name is vishal\n",
      "My rollno is 100\n",
      "College name is Dev bhoomi\n",
      "fuck\n"
     ]
    }
   ],
   "source": [
    "class Student:\n",
    "    cname=\"Dev bhoomi\"\n",
    "    def __init__(self,name,rollno):\n",
    "        self.name=name\n",
    "        self.rollno=rollno\n",
    "        \n",
    "    def info(self):\n",
    "        print(\"My name is\",self.name)\n",
    "        print(\"My rollno is\",self.rollno)\n",
    "        print(\"College name is\",Student.cname)\n",
    "S=Student(\"vishal\",100)\n",
    "S.cname=\"fuck\"\n",
    "S.info()\n",
    "print(S.cname)\n"
   ]
  },
  {
   "cell_type": "markdown",
   "metadata": {},
   "source": [
    "## The static variable is declare :\n",
    "### 1. With in the class directly but outside the any method.\n",
    "### 2. With in the constructor by using class name.\n",
    "### 3. With in the instance method by using class name.\n",
    "### 4. Inside the class method by using classname or cls variable\n",
    "### 5. inside the static method by using only class name\n",
    "### 6. outside the class with using class name\n"
   ]
  },
  {
   "cell_type": "code",
   "execution_count": 11,
   "metadata": {},
   "outputs": [
    {
     "name": "stdout",
     "output_type": "stream",
     "text": [
      "My name is vishal\n",
      "My rollno is 100\n",
      "College name is DBIT\n",
      "fuck\n"
     ]
    }
   ],
   "source": [
    "class Student:\n",
    "    cname=\"Dev bhoomi\"\n",
    "    def __init__(self,name,rollno):\n",
    "        self.name=name\n",
    "        self.rollno=rollno\n",
    "        Student.cname=\"DBIT\"\n",
    "        \n",
    "    def info(self):\n",
    "        print(\"My name is\",self.name)\n",
    "        print(\"My rollno is\",self.rollno)\n",
    "        print(\"College name is\",Student.cname)\n",
    "S=Student(\"vishal\",100)\n",
    "S.cname=\"fuck\"\n",
    "S.info()\n",
    "print(S.cname)\n"
   ]
  },
  {
   "cell_type": "code",
   "execution_count": 15,
   "metadata": {},
   "outputs": [
    {
     "name": "stdout",
     "output_type": "stream",
     "text": [
      "{'__module__': '__main__', 'cname': 'Dev Bhoomi', '__init__': <function Student.__init__ at 0x000001A991EDCD90>, 'Info': <function Student.Info at 0x000001A991EDC840>, 'm': <classmethod object at 0x000001A991F16048>, 'm1': <staticmethod object at 0x000001A991F160B8>, '__dict__': <attribute '__dict__' of 'Student' objects>, '__weakref__': <attribute '__weakref__' of 'Student' objects>, '__doc__': None, 'bo': 'kajal'}\n"
     ]
    }
   ],
   "source": [
    "class Student:\n",
    "    cname=\"Dev Bhoomi\"\n",
    "    def __init__(self):\n",
    "        Student.name=\"vishal\"\n",
    "        \n",
    "    def Info(self):\n",
    "        Student.sports=\"cricket\"\n",
    "    @classmethod\n",
    "    def m(cls):\n",
    "        cls.age=20\n",
    "        Student.fuck=50\n",
    "    @staticmethod\n",
    "    def m1():\n",
    "        Student.f=80\n",
    "Student.bo=\"kajal\"\n",
    "print(Student.__dict__)\n",
    "#This is important question for interview how many static variable is availabe"
   ]
  },
  {
   "cell_type": "markdown",
   "metadata": {},
   "source": [
    "### how to  access the static variable \n",
    "### the static method is accessed with the help of class name\n",
    "### but with in the class method it can also be accessed by cls\n",
    "### outside the class the static variable with class name or object reference"
   ]
  },
  {
   "cell_type": "markdown",
   "metadata": {},
   "source": [
    "# Global variables:\n"
   ]
  },
  {
   "cell_type": "code",
   "execution_count": 17,
   "metadata": {},
   "outputs": [
    {
     "name": "stdout",
     "output_type": "stream",
     "text": [
      "100\n"
     ]
    }
   ],
   "source": [
    "x=100\n",
    "class test:\n",
    "    def __init__(self):\n",
    "        print(x)\n",
    "test1=test()\n"
   ]
  },
  {
   "cell_type": "code",
   "execution_count": 23,
   "metadata": {},
   "outputs": [
    {
     "name": "stdout",
     "output_type": "stream",
     "text": [
      "20\n",
      "20\n"
     ]
    }
   ],
   "source": [
    "\n",
    "class test:\n",
    "    def __init__(self):\n",
    "        print(x)\n",
    "    def m1(self):\n",
    "        global x\n",
    "        x=20\n",
    "        print(x)\n",
    "test1=test()\n",
    "test1.m1()\n",
    "#we cannot use global variable in python because the global is functional programming approach not object oriented programming\n",
    "\n",
    "\n",
    "\n",
    "\n",
    "\n"
   ]
  },
  {
   "cell_type": "markdown",
   "metadata": {},
   "source": [
    "# def m1():\n",
    "## is a static because it cannot take argument self"
   ]
  }
 ],
 "metadata": {
  "kernelspec": {
   "display_name": "Python 3",
   "language": "python",
   "name": "python3"
  },
  "language_info": {
   "codemirror_mode": {
    "name": "ipython",
    "version": 3
   },
   "file_extension": ".py",
   "mimetype": "text/x-python",
   "name": "python",
   "nbconvert_exporter": "python",
   "pygments_lexer": "ipython3",
   "version": "3.6.5"
  }
 },
 "nbformat": 4,
 "nbformat_minor": 2
}
