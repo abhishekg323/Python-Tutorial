{
 "cells": [
  {
   "cell_type": "code",
   "execution_count": 4,
   "metadata": {},
   "outputs": [
    {
     "name": "stdout",
     "output_type": "stream",
     "text": [
      "Enter the namef\n",
      "enter the dd4\n",
      "Enter the mm4\n",
      "Enter the yyyy4\n",
      "4/4/4\n"
     ]
    }
   ],
   "source": [
    "class Person:\n",
    "    def __init__(self,name,dd,mm,yyyy):\n",
    "        self.name=name\n",
    "        self.dob=self.DOB(dd,mm,yyyy)\n",
    "    def Display(self):\n",
    "        print(\"my name is\",self.name)\n",
    "    class DOB(object):\n",
    "        def __init__(self,dd,mm,yyyy):\n",
    "            self.dd=dd\n",
    "            self.mm=mm\n",
    "            self.yyyy=yyyy\n",
    "        def Display(self):\n",
    "            print(\"{0}/{1}/{2}\".format(self.dd,self.mm,self.yyyy))\n",
    "\n",
    "            \n",
    "name=input(\"Enter the name\")\n",
    "dd=int(input(\"enter the dd\"))\n",
    "mm=int(input(\"Enter the mm\"))\n",
    "yyyy=int(input(\"Enter the yyyy\"))\n",
    "p=Person(name,dd,mm,yyyy)\n",
    "p.DOB(dd,mm,yyyy)\n",
    "p.dob.Display()"
   ]
  }
 ],
 "metadata": {
  "kernelspec": {
   "display_name": "Python 3",
   "language": "python",
   "name": "python3"
  },
  "language_info": {
   "codemirror_mode": {
    "name": "ipython",
    "version": 3
   },
   "file_extension": ".py",
   "mimetype": "text/x-python",
   "name": "python",
   "nbconvert_exporter": "python",
   "pygments_lexer": "ipython3",
   "version": "3.6.5"
  }
 },
 "nbformat": 4,
 "nbformat_minor": 2
}
