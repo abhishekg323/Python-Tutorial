{
 "cells": [
  {
   "cell_type": "markdown",
   "metadata": {},
   "source": [
    "# class in python\n",
    "\n",
    "## Inside python class\n",
    "\n",
    "## There are 3 types of variable in python\n",
    "## 1. Instance Variable / Object level variable\n",
    "## 2. Static Variable / class level variable\n",
    "## 3. Local Variable\n",
    "\n",
    "## There are 3 types of method in python\n",
    "## 1. Instance method/object Related method \n",
    "## 2. Static method / General utility method\n",
    "## 3. class method / class related method\n",
    "\n",
    "\n",
    "\n",
    "\n",
    "\n",
    "## Instance variable:\n",
    "\n",
    "### *If the value of variable is varries from object to object then it is known as instance variable that us why instance variable is also known as object level variable\n",
    "### *The variable which is declare with the help of self that is known as instance variable\n",
    "### *The instance variable is inside constructor\n",
    "### * for every object the seprate copy of instance variable is created "
   ]
  },
  {
   "cell_type": "code",
   "execution_count": 5,
   "metadata": {},
   "outputs": [
    {
     "name": "stdout",
     "output_type": "stream",
     "text": [
      "instance variable\n",
      "********************\n",
      "student Information\n",
      "student name= vishal\n",
      "Student rollno.=100\n"
     ]
    }
   ],
   "source": [
    "class Student(object):\n",
    "    def __init__(self,x,y):\n",
    "        print(\"instance variable\")\n",
    "        self.name=x\n",
    "        self.rollno=y\n",
    "        \n",
    "    def info(self):\n",
    "        print(\"*\"*20)\n",
    "        print(\"student Information\")\n",
    "        print(\"student name= {0}\\nStudent rollno.={1}\".format(self.name,self.rollno))\n",
    "s=Student(\"vishal\",100)\n",
    "s.info()"
   ]
  },
  {
   "cell_type": "markdown",
   "metadata": {},
   "source": [
    "## Static variable:\n",
    "\n",
    "### * The static variable only one copy is created and shared to all other objects.\n",
    "### * The static variable is also known as class level variable.\n",
    "### * If we declare any variable inside the variable is known as static variable.\n",
    "### * In java we have to use static keyword to declare static variable but this is not applicable in python"
   ]
  },
  {
   "cell_type": "code",
   "execution_count": 12,
   "metadata": {},
   "outputs": [
    {
     "name": "stdout",
     "output_type": "stream",
     "text": [
      "static variable\n",
      "********************\n",
      "student Information\n",
      "student name= vishal\n",
      "Student rollno.=100\n",
      "College name=Dev Bhoomi\n"
     ]
    }
   ],
   "source": [
    "class Student(object):\n",
    "    cname='Dev Bhoomi'\n",
    "    #Static variable\n",
    "    def __init__(self,x,y):\n",
    "        print(\"static variable\")\n",
    "        self.name=x\n",
    "        self.rollno=y\n",
    "        \n",
    "    def info(self):\n",
    "        print(\"*\"*20)\n",
    "        print(\"student Information\")\n",
    "        print(\"student name= {0}\\nStudent rollno.={1}\\nCollege name={2}\".format(self.name,self.rollno,self.cname))\n",
    "s=Student(\"vishal\",100)\n",
    "s.info()"
   ]
  },
  {
   "cell_type": "markdown",
   "metadata": {},
   "source": [
    "## Local variable:\n",
    "### *The variable which are declare inside the method for a temporary requriment purpose known as local variable\n",
    "### *The scope of this variable is only inside the method"
   ]
  },
  {
   "cell_type": "code",
   "execution_count": 14,
   "metadata": {},
   "outputs": [
    {
     "name": "stdout",
     "output_type": "stream",
     "text": [
      "Dev bhoomi\n",
      "********************\n",
      "student Information\n",
      "student name= vishal\n",
      "Student rollno.=100\n"
     ]
    }
   ],
   "source": [
    "class Student(object):\n",
    "    def __init__(self,x,y):\n",
    "        cname=\"Dev bhoomi\"\n",
    "        #local variable\n",
    "        self.name=x\n",
    "        self.rollno=y\n",
    "        print(cname)\n",
    "    def info(self):\n",
    "        print(\"*\"*20)\n",
    "        print(\"student Information\")\n",
    "        print(\"student name= {0}\\nStudent rollno.={1}\".format(self.name,self.rollno))\n",
    "s=Student(\"vishal\",100)\n",
    "s.info()"
   ]
  },
  {
   "cell_type": "markdown",
   "metadata": {},
   "source": [
    "# Instance Method\n",
    "## The instance method is also known as object related methods"
   ]
  },
  {
   "cell_type": "markdown",
   "metadata": {},
   "source": [
    "# Class Level method\n",
    "## * To maintain the class level information one class object is created thatis maintained by pvm and provide cls means current class level object\n",
    "## * With the help of decorator @classmethod the method is classmethod"
   ]
  },
  {
   "cell_type": "code",
   "execution_count": 18,
   "metadata": {},
   "outputs": [
    {
     "name": "stdout",
     "output_type": "stream",
     "text": [
      "instance variable\n",
      "********************\n",
      "student Information\n",
      "student name= vishal\n",
      "Student rollno.=100\n",
      "********************\n",
      "college name is Dev Bhoomi\n"
     ]
    }
   ],
   "source": [
    "class Student(object):\n",
    "    cname=\"Dev Bhoomi\"\n",
    "    def __init__(self,x,y):\n",
    "        print(\"instance variable\")\n",
    "        self.name=x\n",
    "        self.rollno=y\n",
    "        \n",
    "    def info(self):\n",
    "        print(\"*\"*20)\n",
    "        print(\"student Information\")\n",
    "        print(\"student name= {0}\\nStudent rollno.={1}\".format(self.name,self.rollno))\n",
    "    @classmethod\n",
    "    def getdata(cls):\n",
    "        print(\"*\"*20)\n",
    "        print(\"college name is {}\".format(cls.cname))\n",
    "s=Student(\"vishal\",100)\n",
    "s.info()\n",
    "s.getdata()"
   ]
  },
  {
   "cell_type": "markdown",
   "metadata": {},
   "source": [
    "# Static Method\n",
    "## * the static method is declare with the help of decorator @staticmethod.\n",
    "## * The static method is also known as general utility method."
   ]
  },
  {
   "cell_type": "code",
   "execution_count": 27,
   "metadata": {},
   "outputs": [
    {
     "name": "stdout",
     "output_type": "stream",
     "text": [
      "instance variable\n",
      "the Average is 0.5\n",
      "the Average is 0.6\n"
     ]
    }
   ],
   "source": [
    "class Student(object):\n",
    "    def __init__(self,x,y):\n",
    "        print(\"instance variable\")\n",
    "        self.name=x\n",
    "        self.rollno=y\n",
    "        \n",
    "    def info(self):\n",
    "        print(\"*\"*20)\n",
    "        print(\"student Information\")\n",
    "        print(\"student name= {0}\\nStudent rollno.={1}\".format(self.name,self.rollno))\n",
    "    @staticmethod\n",
    "    def Average(x,y):\n",
    "        print(\"the Average is {}\".format(x/y))\n",
    "s=Student(\"vishal\",10)\n",
    "s.Average(10,20)\n",
    "Student.Average(12,20)"
   ]
  }
 ],
 "metadata": {
  "kernelspec": {
   "display_name": "Python 3",
   "language": "python",
   "name": "python3"
  },
  "language_info": {
   "codemirror_mode": {
    "name": "ipython",
    "version": 3
   },
   "file_extension": ".py",
   "mimetype": "text/x-python",
   "name": "python",
   "nbconvert_exporter": "python",
   "pygments_lexer": "ipython3",
   "version": "3.6.5"
  }
 },
 "nbformat": 4,
 "nbformat_minor": 2
}
