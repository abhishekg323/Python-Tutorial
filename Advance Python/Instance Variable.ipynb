{
 "cells": [
  {
   "cell_type": "markdown",
   "metadata": {},
   "source": [
    "## Instance Variable\n",
    "### We can declare the instance variable\n",
    "### * Inside the instance method with the help of self \n",
    "### * Inside the constructor with the help of self \n",
    "### * outside the class with the help of object reference"
   ]
  },
  {
   "cell_type": "code",
   "execution_count": 12,
   "metadata": {},
   "outputs": [
    {
     "name": "stdout",
     "output_type": "stream",
     "text": [
      "instance variable\n",
      "{'name': 'vishal', 'rollno': 10, 'cname': 'dev bhoomi'}\n"
     ]
    }
   ],
   "source": [
    "class Student(object):\n",
    "    def __init__(self,x,y):\n",
    "        print(\"instance variable\")\n",
    "        self.name=x\n",
    "        self.rollno=y\n",
    "        \n",
    "    def info(self):\n",
    "        self.cname='dev bhoomi'\n",
    "        \n",
    "s=Student(\"vishal\",100)\n",
    "# if we dont use s.info() statment the instance variable cname is not initilize \n",
    "s.info()\n",
    "s.rollno=10\n",
    "print(s.__dict__)\n"
   ]
  },
  {
   "cell_type": "markdown",
   "metadata": {},
   "source": [
    "## How to access the instance variable\n",
    "## ~The instance variable is access inside the class by using self \n",
    "## ~The instance variable is access outside the class by using object reference"
   ]
  },
  {
   "cell_type": "markdown",
   "metadata": {},
   "source": [
    "##  How to delete the instance variable\n",
    "##  ~del self.variablename\n",
    "##  ~del objectreference.variablename"
   ]
  },
  {
   "cell_type": "code",
   "execution_count": 17,
   "metadata": {},
   "outputs": [
    {
     "name": "stdout",
     "output_type": "stream",
     "text": [
      "{'a': 10, 'b': 20, 'd': 40}\n",
      "{'a': 10, 'b': 20, 'c': 30}\n"
     ]
    }
   ],
   "source": [
    "class Number:\n",
    "    def __init__(self):\n",
    "        self.a=10\n",
    "        self.b=20\n",
    "    def calculate(self):\n",
    "        self.c=30\n",
    "        self.d=40\n",
    "n=Number()\n",
    "g=Number()\n",
    "n.calculate()\n",
    "g.calculate()\n",
    "del n.c\n",
    "del g.d\n",
    "print(n.__dict__)\n",
    "print(g.__dict__)\n",
    "\n",
    "\n",
    "#the variable which is deleted from one object is not deleted from another object"
   ]
  }
 ],
 "metadata": {
  "kernelspec": {
   "display_name": "Python 3",
   "language": "python",
   "name": "python3"
  },
  "language_info": {
   "codemirror_mode": {
    "name": "ipython",
    "version": 3
   },
   "file_extension": ".py",
   "mimetype": "text/x-python",
   "name": "python",
   "nbconvert_exporter": "python",
   "pygments_lexer": "ipython3",
   "version": "3.6.5"
  }
 },
 "nbformat": 4,
 "nbformat_minor": 2
}
